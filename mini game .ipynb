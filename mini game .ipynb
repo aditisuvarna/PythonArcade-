{
 "cells": [
  {
   "cell_type": "markdown",
   "id": "866510cb-eb66-4d4a-a8bc-9cf1db0d66cb",
   "metadata": {},
   "source": [
    "# PYTHON MINI GAME"
   ]
  },
  {
   "cell_type": "markdown",
   "id": "9153be8e-973b-45f1-9b99-5c144e42de0f",
   "metadata": {},
   "source": [
    "# 👻 Haunted House Game:👻"
   ]
  },
  {
   "cell_type": "markdown",
   "id": "f46b15ae-b42b-4920-a47f-1986a797b94b",
   "metadata": {},
   "source": [
    "## Purpose🗝️ \n",
    "This is a simple text-based game where the user has to explore different rooms in a haunted house. The goal is to find the key to escape the house without waking the ghosts. It's a game of luck, where the user must choose the correct room to find the key while avoiding the room with the ghost.\n",
    "\n",
    "## Key Features 💀\n",
    "\n",
    "Room Exploration:\n",
    "The haunted house has five rooms: Living Room, Basement, Attic, Kitchen, and Bedroom. The user is given the option to search one room at a time, and each room could either be empty, contain a key, or contain a ghost.\n",
    "\n",
    "Random Room Assignment:\n",
    "The game randomly assigns a room to contain the key and another room to contain the ghost. The user is prompted to enter a room, and the program checks if the room contains the key or a ghost.\n",
    "\n",
    "## Game Flow🎮\n",
    "\n",
    "If the user selects the ghost's room, the game ends with a \"Game over!\" message.\n",
    "If the user finds the key, they are congratulated for escaping the haunted house.\n",
    "The game continues until the user either finds the key or encounters the ghost.\n",
    "Emojis:\n",
    "For this game, I used emojis like 👻 (ghost), 🏚️ (haunted house), 🗝️ (key), and 💀 (skull) to add a spooky atmosphere and make it more fun."
   ]
  },
  {
   "cell_type": "code",
   "execution_count": 2,
   "id": "9ef64cc3-77bd-4bd2-8821-9bbc4322f526",
   "metadata": {},
   "outputs": [
    {
     "name": "stdout",
     "output_type": "stream",
     "text": [
      "Welcome to the Haunted House! 👻🏚️\n",
      "Find the key and escape without waking the ghosts. 🗝️💨\n",
      "Rooms: ['Living Room', 'Basement', 'Attic', 'Kitchen', 'Bedroom'] 🏠\n"
     ]
    },
    {
     "name": "stdin",
     "output_type": "stream",
     "text": [
      "Enter a room to search:  Kitchen\n"
     ]
    },
    {
     "name": "stdout",
     "output_type": "stream",
     "text": [
      "Congratulations! 🎉 You found the key and escaped the house! 🏃‍♂️💨\n"
     ]
    }
   ],
   "source": [
    "import random\n",
    "\n",
    "def haunted_house():\n",
    "    print(\"Welcome to the Haunted House! 👻🏚️\")\n",
    "    print(\"Find the key and escape without waking the ghosts. 🗝️💨\")\n",
    "    rooms = [\"Living Room\", \"Basement\", \"Attic\", \"Kitchen\", \"Bedroom\"]\n",
    "    key_room = random.choice(rooms)\n",
    "    ghost_room = random.choice([r for r in rooms if r != key_room])\n",
    "\n",
    "    while True:\n",
    "        print(f\"Rooms: {rooms} 🏠\")\n",
    "        choice = input(\"Enter a room to search: \").title()\n",
    "        if choice not in rooms:\n",
    "            print(\"Invalid room! Try again. ❌\")\n",
    "            continue\n",
    "        if choice == ghost_room:\n",
    "            print(\"Oh no! A ghost got you! 👻 Game over! 💀\")\n",
    "            break\n",
    "        elif choice == key_room:\n",
    "            print(\"Congratulations! 🎉 You found the key and escaped the house! 🏃‍♂️💨\")\n",
    "            break\n",
    "        else:\n",
    "            print(f\"The {choice} is empty. Keep searching! 🔍\")\n",
    "\n",
    "haunted_house()"
   ]
  },
  {
   "cell_type": "markdown",
   "id": "ecd8fdde-e833-427b-aac5-ed73ce73d08e",
   "metadata": {},
   "source": [
    "# 🔍 Word Puzzle: Missing Letter 🔍"
   ]
  },
  {
   "cell_type": "markdown",
   "id": "17db6639-5fa4-40ae-9eba-6a76b44df8e9",
   "metadata": {},
   "source": [
    "## 🔍 Introduction\n",
    "In this game, players are presented with a word, but one letter in the word is hidden (replaced with underscores). Their goal is to guess the hidden letter based on the word and its associated emoji. It's a fun and interactive way to test both their vocabulary and pattern recognition skills, while also incorporating emojis for a more visually engaging experience. 🎮✨\n",
    "\n",
    "## Objective of the Game 🎮\n",
    "The core idea of the game is to:\n",
    "\n",
    "Present a word with one missing letter (represented by an underscore, _).\n",
    "Give the player an emoji clue related to the word.\n",
    "The player guesses the missing letter, and the game informs them whether they’re correct or not."
   ]
  },
  {
   "cell_type": "code",
   "execution_count": 5,
   "id": "779ff63d-5bbe-4f21-bbaa-8a6d5c78aa62",
   "metadata": {},
   "outputs": [
    {
     "name": "stdout",
     "output_type": "stream",
     "text": [
      "Puzzle: _ODEL 📐\n"
     ]
    },
    {
     "name": "stdin",
     "output_type": "stream",
     "text": [
      "Fill in the missing letter:  MODEL 📐\n"
     ]
    },
    {
     "name": "stdout",
     "output_type": "stream",
     "text": [
      "Wrong! The correct word was: MODEL 📐\n"
     ]
    }
   ],
   "source": [
    "import random\n",
    "\n",
    "# List of word-emoji pairs\n",
    "word_list = [\n",
    "    (\"STANDARDIZATION\", \"📏\"),\n",
    "    (\"MODEL\", \"📐\"),\n",
    "    (\"DIMENSIONALITY\", \"📊\"),\n",
    "    (\"FEATURE\", \"✨\"),\n",
    "    (\"ANALYSIS\", \"🔍\"),\n",
    "    (\"PREDICT\", \"🔮\"),\n",
    "    (\"TRAINING\", \"🏋️‍♂️\"),\n",
    "    (\"OPTIMIZATION\", \"⚙️\"),\n",
    "    (\"ALGORITHM\", \"🤖\"),\n",
    "    (\"SCATTER\", \"🌌\"),\n",
    "    (\"PATTERN\", \"🔗\")\n",
    "]\n",
    "\n",
    "# Choose a random word-emoji pair\n",
    "word, emoji = random.choice(word_list)\n",
    "\n",
    "# Choose a random letter from the word\n",
    "missing = random.choice(word)\n",
    "puzzle = word.replace(missing, \"_\", 2)  \n",
    "\n",
    "print(f\"Puzzle: {puzzle} {emoji}\")\n",
    "\n",
    "# Get user's guess\n",
    "guess = input(\"Fill in the missing letter: \").upper()\n",
    "\n",
    "# Check if the guess is correct\n",
    "if guess == missing:\n",
    "    print(f\"Correct! The word is: {word} {emoji}\")\n",
    "else:\n",
    "    print(f\"Wrong! The correct word was: {word} {emoji}\")"
   ]
  },
  {
   "cell_type": "markdown",
   "id": "06597909-4c4f-415c-85c3-26c1fda454cc",
   "metadata": {},
   "source": [
    "# 🧟 Zombie Survival Game 🧟"
   ]
  },
  {
   "cell_type": "markdown",
   "id": "c73d604c-6050-4e4a-b990-47851059e9fb",
   "metadata": {},
   "source": [
    "## Objective ⚔️,\n",
    "The player must survive a zombie 🧟 attack by either:\n",
    "\n",
    "Slashing ⚔️ (reduces health by 10).\n",
    "Shooting 🔫 (reduces health by 20).\n",
    "Running 🏃‍♀️ (escapes the game).\n",
    "The goal is to defeat the zombie (health = 0) or escape safely.\n",
    "\n",
    "## How It Works 🔫\n",
    "Zombie Health: Starts at 50 and decreases based on the player's actions.\n",
    "Input Choices: The player can:\n",
    "Slash: Zombie health drops by 10.\n",
    "Shoot: Zombie health drops by 20.\n",
    "Run: End the game safely.\n",
    "Game Loop: A while loop runs until:\n",
    "The zombie’s health = 0 (victory 🎉).\n",
    "The player chooses to run.\n",
    "Feedback: Real-time messages and emojis (e.g., 🧟, ⚔️, 🔫, ❤️) enhance the experience."
   ]
  },
  {
   "cell_type": "code",
   "execution_count": 7,
   "id": "b49f17fc-ee13-4ee9-97e7-07036ffa8910",
   "metadata": {},
   "outputs": [
    {
     "name": "stdout",
     "output_type": "stream",
     "text": [
      "🧟 A zombie appears! You have a ⚔️ sword and a 🔫 gun.\n"
     ]
    },
    {
     "name": "stdin",
     "output_type": "stream",
     "text": [
      "Choose an action (slash ⚔️ / shoot 🔫 / run 🏃‍♀️):  shoot\n"
     ]
    },
    {
     "name": "stdout",
     "output_type": "stream",
     "text": [
      "🔫 You shot the zombie! 🧟 Zombie health: 60 ❤️\n"
     ]
    },
    {
     "name": "stdin",
     "output_type": "stream",
     "text": [
      "Choose an action (slash ⚔️ / shoot 🔫 / run 🏃‍♀️):  slash\n"
     ]
    },
    {
     "name": "stdout",
     "output_type": "stream",
     "text": [
      "⚔️ You slashed the zombie! 🧟 Zombie health: 30 ❤️\n"
     ]
    },
    {
     "name": "stdin",
     "output_type": "stream",
     "text": [
      "Choose an action (slash ⚔️ / shoot 🔫 / run 🏃‍♀️):  slash\n"
     ]
    },
    {
     "name": "stdout",
     "output_type": "stream",
     "text": [
      "⚔️ You slashed the zombie! 🧟 Zombie health: 0 ❤️\n",
      "🎉 You defeated the zombie! 🧟💀 You survived! 🏆\n"
     ]
    }
   ],
   "source": [
    "# Initialize zombie health\n",
    "zombie_health = 100\n",
    "\n",
    "print(\"🧟 A zombie appears! You have a ⚔️ sword and a 🔫 gun.\")\n",
    "while zombie_health > 0:\n",
    "    action = input(\"Choose an action (slash ⚔️ / shoot 🔫 / run 🏃‍♀️): \").lower()\n",
    "\n",
    "     # Process the action chosen by the player\n",
    "    if action == \"slash\":\n",
    "        zombie_health -= 30\n",
    "        print(f\"⚔️ You slashed the zombie! 🧟 Zombie health: {zombie_health} ❤️\")\n",
    "    elif action == \"shoot\":\n",
    "        zombie_health -= 40\n",
    "        print(f\"🔫 You shot the zombie! 🧟 Zombie health: {zombie_health} ❤️\")\n",
    "    elif action == \"run\":\n",
    "        print(\"🏃‍♀️ You escaped! The zombie is still lurking... 🧟\")\n",
    "        break\n",
    "    else:\n",
    "        print(\"❌ Invalid action. The zombie is getting closer! 🧟‍♂️\")\n",
    "        \n",
    "# Check if the zombie is defeated\n",
    "if zombie_health <= 0:\n",
    "    print(\"🎉 You defeated the zombie! 🧟💀 You survived! 🏆\")"
   ]
  },
  {
   "cell_type": "code",
   "execution_count": null,
   "id": "2a8c09bb-7d0c-4f07-bff6-e660bff616bd",
   "metadata": {},
   "outputs": [],
   "source": []
  }
 ],
 "metadata": {
  "kernelspec": {
   "display_name": "Python 3 (ipykernel)",
   "language": "python",
   "name": "python3"
  },
  "language_info": {
   "codemirror_mode": {
    "name": "ipython",
    "version": 3
   },
   "file_extension": ".py",
   "mimetype": "text/x-python",
   "name": "python",
   "nbconvert_exporter": "python",
   "pygments_lexer": "ipython3",
   "version": "3.13.0"
  }
 },
 "nbformat": 4,
 "nbformat_minor": 5
}
